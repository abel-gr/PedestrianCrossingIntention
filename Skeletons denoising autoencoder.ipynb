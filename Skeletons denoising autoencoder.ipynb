{
 "cells": [
  {
   "cell_type": "markdown",
   "metadata": {},
   "source": [
    "# Pedestrians skeletons missing joints recovering using targeted denoising autoencoder"
   ]
  },
  {
   "cell_type": "markdown",
   "metadata": {},
   "source": [
    "Recovery of missing joints in skeletons using a denoising autoencoder. The notebook also shows the 2 types of denoising that can be used with my classes: random denoising that has an equal probability of adding noise to each node, or my targeted denoising approach that in this case adds noise more likely to node 8 (the neck) and nearby nodes, since it is the most crucial node when it comes to classifying between crossing and not-crossing, at least in CARLA.\n",
    "\n",
    "My targeted denoising allows to retrieve skeletons that give better classification results than random denoising."
   ]
  },
  {
   "cell_type": "code",
   "execution_count": null,
   "metadata": {},
   "outputs": [],
   "source": [
    "import numpy as np\n",
    "\n",
    "from torch import from_numpy\n",
    "from torch import cuda\n",
    "from torch import no_grad\n",
    "from torch import optim\n",
    "\n",
    "from torch_geometric.data import Data\n",
    "from torch_geometric.loader import DataLoader\n",
    "\n",
    "import matplotlib.pyplot as plt\n",
    "\n",
    "import pandas as pd\n",
    "\n",
    "%matplotlib inline\n",
    "\n",
    "from Code.Autoencoder import *\n",
    "from Code.SkeletonsDataset import *\n",
    "from Code.ModelTrainEvaluate import *\n",
    "from Code.MetricsPlots import *"
   ]
  },
  {
   "cell_type": "code",
   "execution_count": 2,
   "metadata": {},
   "outputs": [],
   "source": [
    "info = 3\n",
    "\n",
    "train_dataset = SkeletonsDataset('Data/CARLA/train_preprocessed.csv', numberOfJoints=26,\n",
    "                                 normalization='minmax', target='crossing', info=info, remove_undetected=False)"
   ]
  },
  {
   "cell_type": "code",
   "execution_count": 3,
   "metadata": {},
   "outputs": [
    {
     "name": "stdout",
     "output_type": "stream",
     "text": [
      "train_dataset len: 151291\n",
      "Temporal dimension length: 3\n",
      "Shape of each skeletons data (x): torch.Size([26, 3])\n"
     ]
    },
    {
     "data": {
      "text/html": [
       "<div>\n",
       "<style scoped>\n",
       "    .dataframe tbody tr th:only-of-type {\n",
       "        vertical-align: middle;\n",
       "    }\n",
       "\n",
       "    .dataframe tbody tr th {\n",
       "        vertical-align: top;\n",
       "    }\n",
       "\n",
       "    .dataframe thead th {\n",
       "        text-align: right;\n",
       "    }\n",
       "</style>\n",
       "<table border=\"1\" class=\"dataframe\">\n",
       "  <thead>\n",
       "    <tr style=\"text-align: right;\">\n",
       "      <th></th>\n",
       "      <th>Unnamed: 0</th>\n",
       "      <th>Unnamed: 0.1</th>\n",
       "      <th>id</th>\n",
       "      <th>video</th>\n",
       "      <th>frame</th>\n",
       "      <th>skeleton</th>\n",
       "      <th>crossing</th>\n",
       "    </tr>\n",
       "  </thead>\n",
       "  <tbody>\n",
       "    <tr>\n",
       "      <th>0</th>\n",
       "      <td>274800</td>\n",
       "      <td>274800</td>\n",
       "      <td>d1d1c0e1-550a-44ae-9ada-e6b16e52ba48</td>\n",
       "      <td>clips/57-7-0-0.mp4</td>\n",
       "      <td>0</td>\n",
       "      <td>[[-2805.490966796875, -93.4703369140625, 0], [...</td>\n",
       "      <td>0</td>\n",
       "    </tr>\n",
       "    <tr>\n",
       "      <th>1</th>\n",
       "      <td>274801</td>\n",
       "      <td>274801</td>\n",
       "      <td>d1d1c0e1-550a-44ae-9ada-e6b16e52ba48</td>\n",
       "      <td>clips/57-7-0-0.mp4</td>\n",
       "      <td>1</td>\n",
       "      <td>[[-2785.79541015625, -79.54444122314453, 0], [...</td>\n",
       "      <td>0</td>\n",
       "    </tr>\n",
       "    <tr>\n",
       "      <th>2</th>\n",
       "      <td>274802</td>\n",
       "      <td>274802</td>\n",
       "      <td>d1d1c0e1-550a-44ae-9ada-e6b16e52ba48</td>\n",
       "      <td>clips/57-7-0-0.mp4</td>\n",
       "      <td>2</td>\n",
       "      <td>[[-2765.295654296875, -65.11300659179688, 0], ...</td>\n",
       "      <td>0</td>\n",
       "    </tr>\n",
       "    <tr>\n",
       "      <th>3</th>\n",
       "      <td>274803</td>\n",
       "      <td>274803</td>\n",
       "      <td>d1d1c0e1-550a-44ae-9ada-e6b16e52ba48</td>\n",
       "      <td>clips/57-7-0-0.mp4</td>\n",
       "      <td>3</td>\n",
       "      <td>[[-2744.0283203125, -50.199893951416016, 0], [...</td>\n",
       "      <td>0</td>\n",
       "    </tr>\n",
       "    <tr>\n",
       "      <th>4</th>\n",
       "      <td>274804</td>\n",
       "      <td>274804</td>\n",
       "      <td>d1d1c0e1-550a-44ae-9ada-e6b16e52ba48</td>\n",
       "      <td>clips/57-7-0-0.mp4</td>\n",
       "      <td>4</td>\n",
       "      <td>[[-2722.03759765625, -34.829925537109375, 0], ...</td>\n",
       "      <td>0</td>\n",
       "    </tr>\n",
       "    <tr>\n",
       "      <th>...</th>\n",
       "      <td>...</td>\n",
       "      <td>...</td>\n",
       "      <td>...</td>\n",
       "      <td>...</td>\n",
       "      <td>...</td>\n",
       "      <td>...</td>\n",
       "      <td>...</td>\n",
       "    </tr>\n",
       "    <tr>\n",
       "      <th>151795</th>\n",
       "      <td>219595</td>\n",
       "      <td>219595</td>\n",
       "      <td>d37bcb41-11ce-4696-b6c9-3c663a44119a</td>\n",
       "      <td>clips/47-11-0-0.mp4</td>\n",
       "      <td>595</td>\n",
       "      <td>[[-159.25418090820312, 2856.2373046875, 0], [-...</td>\n",
       "      <td>0</td>\n",
       "    </tr>\n",
       "    <tr>\n",
       "      <th>151796</th>\n",
       "      <td>219596</td>\n",
       "      <td>219596</td>\n",
       "      <td>d37bcb41-11ce-4696-b6c9-3c663a44119a</td>\n",
       "      <td>clips/47-11-0-0.mp4</td>\n",
       "      <td>596</td>\n",
       "      <td>[[-158.1601104736328, 2856.507568359375, 0], [...</td>\n",
       "      <td>0</td>\n",
       "    </tr>\n",
       "    <tr>\n",
       "      <th>151797</th>\n",
       "      <td>219597</td>\n",
       "      <td>219597</td>\n",
       "      <td>d37bcb41-11ce-4696-b6c9-3c663a44119a</td>\n",
       "      <td>clips/47-11-0-0.mp4</td>\n",
       "      <td>597</td>\n",
       "      <td>[[-157.06983947753906, 2856.77734375, 0], [-15...</td>\n",
       "      <td>0</td>\n",
       "    </tr>\n",
       "    <tr>\n",
       "      <th>151798</th>\n",
       "      <td>219598</td>\n",
       "      <td>219598</td>\n",
       "      <td>d37bcb41-11ce-4696-b6c9-3c663a44119a</td>\n",
       "      <td>clips/47-11-0-0.mp4</td>\n",
       "      <td>598</td>\n",
       "      <td>[[-155.98318481445312, 2857.046142578125, 0], ...</td>\n",
       "      <td>0</td>\n",
       "    </tr>\n",
       "    <tr>\n",
       "      <th>151799</th>\n",
       "      <td>219599</td>\n",
       "      <td>219599</td>\n",
       "      <td>d37bcb41-11ce-4696-b6c9-3c663a44119a</td>\n",
       "      <td>clips/47-11-0-0.mp4</td>\n",
       "      <td>599</td>\n",
       "      <td>[[-155.98318481445312, 2857.046142578125, 0], ...</td>\n",
       "      <td>0</td>\n",
       "    </tr>\n",
       "  </tbody>\n",
       "</table>\n",
       "<p>151800 rows × 7 columns</p>\n",
       "</div>"
      ],
      "text/plain": [
       "        Unnamed: 0  Unnamed: 0.1                                    id  \\\n",
       "0           274800        274800  d1d1c0e1-550a-44ae-9ada-e6b16e52ba48   \n",
       "1           274801        274801  d1d1c0e1-550a-44ae-9ada-e6b16e52ba48   \n",
       "2           274802        274802  d1d1c0e1-550a-44ae-9ada-e6b16e52ba48   \n",
       "3           274803        274803  d1d1c0e1-550a-44ae-9ada-e6b16e52ba48   \n",
       "4           274804        274804  d1d1c0e1-550a-44ae-9ada-e6b16e52ba48   \n",
       "...            ...           ...                                   ...   \n",
       "151795      219595        219595  d37bcb41-11ce-4696-b6c9-3c663a44119a   \n",
       "151796      219596        219596  d37bcb41-11ce-4696-b6c9-3c663a44119a   \n",
       "151797      219597        219597  d37bcb41-11ce-4696-b6c9-3c663a44119a   \n",
       "151798      219598        219598  d37bcb41-11ce-4696-b6c9-3c663a44119a   \n",
       "151799      219599        219599  d37bcb41-11ce-4696-b6c9-3c663a44119a   \n",
       "\n",
       "                      video  frame  \\\n",
       "0        clips/57-7-0-0.mp4      0   \n",
       "1        clips/57-7-0-0.mp4      1   \n",
       "2        clips/57-7-0-0.mp4      2   \n",
       "3        clips/57-7-0-0.mp4      3   \n",
       "4        clips/57-7-0-0.mp4      4   \n",
       "...                     ...    ...   \n",
       "151795  clips/47-11-0-0.mp4    595   \n",
       "151796  clips/47-11-0-0.mp4    596   \n",
       "151797  clips/47-11-0-0.mp4    597   \n",
       "151798  clips/47-11-0-0.mp4    598   \n",
       "151799  clips/47-11-0-0.mp4    599   \n",
       "\n",
       "                                                 skeleton  crossing  \n",
       "0       [[-2805.490966796875, -93.4703369140625, 0], [...         0  \n",
       "1       [[-2785.79541015625, -79.54444122314453, 0], [...         0  \n",
       "2       [[-2765.295654296875, -65.11300659179688, 0], ...         0  \n",
       "3       [[-2744.0283203125, -50.199893951416016, 0], [...         0  \n",
       "4       [[-2722.03759765625, -34.829925537109375, 0], ...         0  \n",
       "...                                                   ...       ...  \n",
       "151795  [[-159.25418090820312, 2856.2373046875, 0], [-...         0  \n",
       "151796  [[-158.1601104736328, 2856.507568359375, 0], [...         0  \n",
       "151797  [[-157.06983947753906, 2856.77734375, 0], [-15...         0  \n",
       "151798  [[-155.98318481445312, 2857.046142578125, 0], ...         0  \n",
       "151799  [[-155.98318481445312, 2857.046142578125, 0], ...         0  \n",
       "\n",
       "[151800 rows x 7 columns]"
      ]
     },
     "execution_count": 3,
     "metadata": {},
     "output_type": "execute_result"
    }
   ],
   "source": [
    "print('train_dataset len:', len(train_dataset))\n",
    "print('Temporal dimension length:', len(train_dataset.data[0].x_temporal))\n",
    "print('Shape of each skeletons data (x):', train_dataset.data[0].x_temporal[0].shape)\n",
    "\n",
    "train_dataset.loadedData"
   ]
  },
  {
   "cell_type": "code",
   "execution_count": 4,
   "metadata": {},
   "outputs": [],
   "source": [
    "val_dataset = SkeletonsDataset('Data/CARLA/val_preprocessed.csv', numberOfJoints=26,\n",
    "                               normalization='minmax', target='crossing', info=info, remove_undetected=False)"
   ]
  },
  {
   "cell_type": "code",
   "execution_count": 5,
   "metadata": {},
   "outputs": [],
   "source": [
    "test_dataset = SkeletonsDataset('Data/CARLA/test_preprocessed.csv', numberOfJoints=26,\n",
    "                               normalization='minmax', target='crossing', info=info, remove_undetected=False)"
   ]
  },
  {
   "cell_type": "code",
   "execution_count": 6,
   "metadata": {},
   "outputs": [],
   "source": [
    "def train(model, train_loader, device, optimizer, crit):\n",
    "\n",
    "    model.train()\n",
    "\n",
    "    loss_all = 0\n",
    "    samples = 0\n",
    "\n",
    "    for data in train_loader:\n",
    "\n",
    "        data = data.to(device)\n",
    "        optimizer.zero_grad()\n",
    "\n",
    "        output = model(data, noise='random')\n",
    "\n",
    "        label = data.x_temporal[0].to(device)\n",
    "        \n",
    "        label = reshape(label, (output.shape[0], output.shape[1]))\n",
    "        \n",
    "        loss = crit(output, label)\n",
    "\n",
    "        loss.backward()\n",
    "        loss_all = loss_all + loss.item()\n",
    "        samples = samples + 1\n",
    "        optimizer.step()\n",
    "\n",
    "    return loss_all / samples"
   ]
  },
  {
   "cell_type": "code",
   "execution_count": 7,
   "metadata": {},
   "outputs": [
    {
     "name": "stdout",
     "output_type": "stream",
     "text": [
      "Epoch  1 - Train MSE loss: 0.1141 - Val MSE loss: 0.1\n",
      "Epoch  2 - Train MSE loss: 0.072 - Val MSE loss: 0.062\n",
      "Epoch  3 - Train MSE loss: 0.0612 - Val MSE loss: 0.062\n",
      "Epoch  4 - Train MSE loss: 0.0606 - Val MSE loss: 0.061\n",
      "Epoch  5 - Train MSE loss: 0.0614 - Val MSE loss: 0.061\n",
      "Epoch  6 - Train MSE loss: 0.0621 - Val MSE loss: 0.063\n",
      "Epoch  7 - Train MSE loss: 0.0599 - Val MSE loss: 0.059\n",
      "Epoch  8 - Train MSE loss: 0.059 - Val MSE loss: 0.057\n",
      "Epoch  9 - Train MSE loss: 0.057 - Val MSE loss: 0.053\n",
      "Epoch  10 - Train MSE loss: 0.0525 - Val MSE loss: 0.049\n",
      "Epoch  11 - Train MSE loss: 0.0491 - Val MSE loss: 0.048\n",
      "Epoch  12 - Train MSE loss: 0.0477 - Val MSE loss: 0.045\n",
      "Epoch  13 - Train MSE loss: 0.0453 - Val MSE loss: 0.044\n",
      "Epoch  14 - Train MSE loss: 0.0446 - Val MSE loss: 0.044\n",
      "Epoch  15 - Train MSE loss: 0.0447 - Val MSE loss: 0.043\n",
      "Epoch  16 - Train MSE loss: 0.0452 - Val MSE loss: 0.043\n",
      "Epoch  17 - Train MSE loss: 0.0416 - Val MSE loss: 0.041\n",
      "Epoch  18 - Train MSE loss: 0.0381 - Val MSE loss: 0.037\n",
      "Epoch  19 - Train MSE loss: 0.0377 - Val MSE loss: 0.038\n",
      "Epoch  20 - Train MSE loss: 0.0371 - Val MSE loss: 0.037\n",
      "Epoch  21 - Train MSE loss: 0.0361 - Val MSE loss: 0.037\n",
      "Epoch  22 - Train MSE loss: 0.0347 - Val MSE loss: 0.033\n",
      "Epoch  23 - Train MSE loss: 0.0329 - Val MSE loss: 0.033\n",
      "Epoch  24 - Train MSE loss: 0.0327 - Val MSE loss: 0.033\n",
      "Epoch  25 - Train MSE loss: 0.0327 - Val MSE loss: 0.033\n"
     ]
    }
   ],
   "source": [
    "num_epochs = 25\n",
    "batch_size = 1500\n",
    "\n",
    "device = torch.device('cpu')\n",
    "#model = GraphConvolutionalAutoencoder(3, 26).to(device)\n",
    "model = FC_Autoencoder(3, 26).to(device)\n",
    "optimizer = torch.optim.Adam(model.parameters(), lr=0.005)\n",
    "crit = torch.nn.MSELoss()\n",
    "\n",
    "train_loader = DataLoader(train_dataset[0:], batch_size=batch_size)\n",
    "val_loader = DataLoader(val_dataset[0:], batch_size=batch_size)\n",
    "\n",
    "loss_values_train = []\n",
    "loss_values_val = []\n",
    "\n",
    "metrics_train = []\n",
    "metrics_val = []\n",
    "\n",
    "for epoch in range(num_epochs):\n",
    "\n",
    "    train_loss = train(model, train_loader, device, optimizer, crit)\n",
    "    loss_values_train.append(train_loss)\n",
    "    \n",
    "    val_loss = 0\n",
    "    val_samples = 0\n",
    "    \n",
    "    with no_grad():\n",
    "        for data in val_loader:\n",
    "            \n",
    "            data = data.to(device)\n",
    "            \n",
    "            output = model(data, noise='random').detach()\n",
    "            \n",
    "            label = data.x_temporal[0].to(device)\n",
    "            \n",
    "            label = reshape(label, (output.shape[0], output.shape[1]))\n",
    "        \n",
    "            loss = crit(output, label)\n",
    "\n",
    "            val_loss = val_loss + loss.item() # * data.num_graphs\n",
    "            val_samples = val_samples + 1\n",
    "            \n",
    "    val_loss = val_loss / val_samples\n",
    "    loss_values_val.append(val_loss)\n",
    "    \n",
    "    if (num_epochs <= 25) or (epoch % 10 == 0):\n",
    "        print('Epoch ', epoch+1, '- Train MSE loss:', round(train_loss, 4), '- Val MSE loss:', round(val_loss, 3))"
   ]
  },
  {
   "cell_type": "code",
   "execution_count": 8,
   "metadata": {},
   "outputs": [
    {
     "data": {
      "image/png": "[encoded data removed]",
      "text/plain": [
       "<Figure size 720x720 with 1 Axes>"
      ]
     },
     "metadata": {
      "needs_background": "light"
     },
     "output_type": "display_data"
    }
   ],
   "source": [
    "plt.figure(figsize=(10,10))\n",
    "plt.title('Autoencoder loss during training process')\n",
    "plt.plot(np.arange(0, len(loss_values_train)), loss_values_train, label='Train')\n",
    "plt.plot(np.arange(0, len(loss_values_val)), loss_values_val, label='Val')\n",
    "plt.legend()\n",
    "plt.xlabel('Epoch')\n",
    "plt.ylabel('MSE loss')\n",
    "plt.show()"
   ]
  },
  {
   "cell_type": "markdown",
   "metadata": {},
   "source": [
    "# Denoising explanation\n",
    "\n",
    "I performed denoising setting to zero the coordinates of the different joints to make them be missing like happens when using OpenPose on JAAD, for example.\n",
    "\n",
    "To make them missing, I first used a random denoising strategy using a uniform distribution:"
   ]
  },
  {
   "cell_type": "code",
   "execution_count": 9,
   "metadata": {},
   "outputs": [
    {
     "name": "stdout",
     "output_type": "stream",
     "text": [
      "8 4 12\n"
     ]
    }
   ],
   "source": [
    "# This are the nodes that if missing, the results of the crossing/not-crossing classification are almost random (0.5 balanced accuracy aprox.)\n",
    "n = train_dataset.body_parts['crl_neck__C']\n",
    "sl = train_dataset.body_parts['crl_shoulder__L']\n",
    "sr = train_dataset.body_parts['crl_shoulder__R']\n",
    "\n",
    "print(n, sl, sr)\n",
    "\n",
    "x = train_dataset[0].x_temporal[0]"
   ]
  },
  {
   "cell_type": "markdown",
   "metadata": {},
   "source": [
    "# Random denoising:"
   ]
  },
  {
   "cell_type": "code",
   "execution_count": 10,
   "metadata": {},
   "outputs": [
    {
     "data": {
      "image/png": "[encoded data removed]",
      "text/plain": [
       "<Figure size 432x288 with 1 Axes>"
      ]
     },
     "metadata": {
      "needs_background": "light"
     },
     "output_type": "display_data"
    },
    {
     "data": {
      "image/png": "[encoded data removed]",
      "text/plain": [
       "<Figure size 432x288 with 1 Axes>"
      ]
     },
     "metadata": {
      "needs_background": "light"
     },
     "output_type": "display_data"
    },
    {
     "data": {
      "image/png": "[encoded data removed]",
      "text/plain": [
       "<Figure size 432x288 with 1 Axes>"
      ]
     },
     "metadata": {
      "needs_background": "light"
     },
     "output_type": "display_data"
    }
   ],
   "source": [
    "v = np.random.uniform(size=(10000))\n",
    "\n",
    "plt.figure()\n",
    "plt.title('Uniform distribution for randomly set missing joints')\n",
    "plt.hist(v, 100)\n",
    "plt.show()\n",
    "\n",
    "vi = 10000 - np.sum(np.where(np.random.uniform(size=(x.shape[0], 10000)) <= 0.3, 0, 1), axis=1)\n",
    "\n",
    "plt.figure()\n",
    "plt.title('Number of skeletons in which each joint is missing')\n",
    "plt.xlabel('Joint ID')\n",
    "plt.ylabel('Number of skeletons')\n",
    "plt.bar(range(0, vi.shape[0]), vi)\n",
    "plt.show()\n",
    "\n",
    "vi_p = vi / 10000\n",
    "\n",
    "plt.figure()\n",
    "plt.title('Probability of a joint to be set as 0 (missing)')\n",
    "plt.xlabel('Joint ID')\n",
    "plt.ylabel('Probability')\n",
    "plt.bar(range(0, vi_p.shape[0]), vi_p)\n",
    "plt.show()"
   ]
  },
  {
   "cell_type": "markdown",
   "metadata": {},
   "source": [
    "## Targeted denoising:"
   ]
  },
  {
   "cell_type": "markdown",
   "metadata": {},
   "source": [
    "Now I use a normal distribution with mean 8 because 8 is the ID of the neck, the most important joint (if missing the results are awful). In this way, as you can see in the plots below, the neck now has a higher probability of being set to 0 (force it to be missing during autoencoder training):"
   ]
  },
  {
   "cell_type": "code",
   "execution_count": 11,
   "metadata": {},
   "outputs": [
    {
     "data": {
      "image/png": "[encoded data removed]",
      "text/plain": [
       "<Figure size 432x288 with 1 Axes>"
      ]
     },
     "metadata": {
      "needs_background": "light"
     },
     "output_type": "display_data"
    },
    {
     "data": {
      "image/png": "[encoded data removed]",
      "text/plain": [
       "<Figure size 432x288 with 1 Axes>"
      ]
     },
     "metadata": {
      "needs_background": "light"
     },
     "output_type": "display_data"
    },
    {
     "data": {
      "image/png": "[encoded data removed]",
      "text/plain": [
       "<Figure size 432x288 with 1 Axes>"
      ]
     },
     "metadata": {
      "needs_background": "light"
     },
     "output_type": "display_data"
    }
   ],
   "source": [
    "v = np.random.normal(loc=8, scale=3, size=10000)\n",
    "\n",
    "vi_unique_values, vi_counts = np.unique(v.astype(int), return_counts=True)\n",
    "\n",
    "plt.figure()\n",
    "plt.title('Normal distribution for randomly set missing joints')\n",
    "plt.xlabel('Joint ID')\n",
    "plt.hist(v, 100)\n",
    "plt.xticks(np.arange(0, np.max(vi_unique_values) + 1))\n",
    "plt.axvline(v.mean(), color='k', linestyle='dashed', linewidth=2)\n",
    "plt.show()\n",
    "\n",
    "# Add the joints that were not added randomly with the normal distribution:\n",
    "for i in range(0, 26):\n",
    "    if i not in vi_unique_values:\n",
    "        vi_unique_values = np.append(vi_unique_values, i)\n",
    "        vi_counts = np.append(vi_counts, 0)\n",
    "\n",
    "plt.figure()\n",
    "plt.title('Number of skeletons in which each joint is missing')\n",
    "plt.xlabel('Joint ID')\n",
    "plt.ylabel('Number of skeletons')\n",
    "plt.bar(vi_unique_values, vi_counts)\n",
    "plt.xticks(np.arange(0, np.max(vi_unique_values) + 1))\n",
    "plt.axvline(v.mean(), color='k', linestyle='dashed', linewidth=2)\n",
    "plt.show()\n",
    "\n",
    "vi_counts_p = vi_counts / 10000\n",
    "\n",
    "plt.figure()\n",
    "plt.title('Probability of a joint to be set as 0 (missing)')\n",
    "plt.xlabel('Joint ID')\n",
    "plt.ylabel('Probability')\n",
    "plt.bar(vi_unique_values, vi_counts_p)\n",
    "plt.xticks(np.arange(0, np.max(vi_unique_values) + 1))\n",
    "plt.axvline(v.mean(), color='k', linestyle='dashed', linewidth=2)\n",
    "plt.show()"
   ]
  },
  {
   "cell_type": "code",
   "execution_count": 43,
   "metadata": {},
   "outputs": [],
   "source": [
    "def targeted_denoising(threshold=0.3):\n",
    "    v = np.random.normal(loc=8, scale=3, size=10000)\n",
    "    vi_unique_values, vi_counts = np.unique(v.astype(int), return_counts=True)\n",
    "    \n",
    "    for i in range(0, 26):\n",
    "        if i not in vi_unique_values:\n",
    "            vi_unique_values = np.append(vi_unique_values, i)\n",
    "            vi_counts = np.append(vi_counts, 0)\n",
    "            \n",
    "    sorted_index = np.argsort(vi_unique_values)\n",
    "    vi_unique_values = vi_unique_values[sorted_index]\n",
    "    vi_counts = vi_counts[sorted_index]\n",
    "    \n",
    "    if np.min(vi_unique_values) < 0:\n",
    "        zero_pos = np.argwhere(vi_unique_values == 0)[0][0]\n",
    "        vi_unique_values = vi_unique_values[zero_pos:]\n",
    "        vi_counts = vi_counts[zero_pos:]\n",
    "        \n",
    "    if vi_unique_values.shape[0] > 26:\n",
    "        vi_unique_values = vi_unique_values[0:26]\n",
    "        vi_counts = vi_counts[0:26]\n",
    "                \n",
    "    vi_counts_p = vi_counts / 10000\n",
    "    \n",
    "    n_th = vi_counts_p.reshape(-1, 1) + threshold\n",
    "        \n",
    "    return np.where(np.random.uniform(size=(vi_counts_p.shape[0], 1)) <= n_th, 0, 1)"
   ]
  },
  {
   "cell_type": "markdown",
   "metadata": {},
   "source": [
    "#### Extra threshold of 0.0:"
   ]
  },
  {
   "cell_type": "code",
   "execution_count": 44,
   "metadata": {},
   "outputs": [
    {
     "data": {
      "image/png": "[encoded data removed]",
      "text/plain": [
       "<Figure size 432x288 with 1 Axes>"
      ]
     },
     "metadata": {
      "needs_background": "light"
     },
     "output_type": "display_data"
    }
   ],
   "source": [
    "missings = []\n",
    "\n",
    "for i in range(0, 10000):\n",
    "    vt = targeted_denoising(threshold=0)\n",
    "    \n",
    "    if missings is None:\n",
    "        missings = vt\n",
    "    else:\n",
    "        missings.append(vt.reshape(-1))\n",
    "    \n",
    "missings = np.asarray(missings)\n",
    "#missings = missings.reshape(26, 1000)\n",
    "\n",
    "vi = (10000 - np.sum(missings, axis=0)) / 10000\n",
    "\n",
    "plt.figure()\n",
    "plt.title('Probability of a joint to be set as 0 (missing) - Extra threshold of 0.0')\n",
    "plt.xlabel('Joint ID')\n",
    "plt.ylabel('Probability')\n",
    "plt.bar(np.arange(vi.shape[0]), vi.reshape(-1))\n",
    "plt.xticks(np.arange(0, 26))\n",
    "plt.axvline(v.mean(), color='k', linestyle='dashed', linewidth=2)\n",
    "plt.show()"
   ]
  },
  {
   "cell_type": "markdown",
   "metadata": {},
   "source": [
    "#### Extra threshold of 0.15:"
   ]
  },
  {
   "cell_type": "code",
   "execution_count": 45,
   "metadata": {},
   "outputs": [
    {
     "data": {
      "image/png": "[encoded data removed]",
      "text/plain": [
       "<Figure size 432x288 with 1 Axes>"
      ]
     },
     "metadata": {
      "needs_background": "light"
     },
     "output_type": "display_data"
    }
   ],
   "source": [
    "missings = []\n",
    "\n",
    "for i in range(0, 10000):\n",
    "    vt = targeted_denoising(threshold=0.15)\n",
    "    \n",
    "    if missings is None:\n",
    "        missings = vt\n",
    "    else:\n",
    "        missings.append(vt.reshape(-1))\n",
    "    \n",
    "missings = np.asarray(missings)\n",
    "#missings = missings.reshape(26, 1000)\n",
    "\n",
    "vi = (10000 - np.sum(missings, axis=0)) / 10000\n",
    "\n",
    "plt.figure()\n",
    "plt.title('Probability of a joint to be set as 0 (missing) - Extra threshold of 0.15')\n",
    "plt.xlabel('Joint ID')\n",
    "plt.ylabel('Probability')\n",
    "plt.bar(np.arange(vi.shape[0]), vi.reshape(-1))\n",
    "plt.xticks(np.arange(0, 26))\n",
    "plt.axvline(v.mean(), color='k', linestyle='dashed', linewidth=2)\n",
    "plt.show()"
   ]
  },
  {
   "cell_type": "markdown",
   "metadata": {},
   "source": [
    "#### Extra threshold of 0.3:"
   ]
  },
  {
   "cell_type": "code",
   "execution_count": 46,
   "metadata": {},
   "outputs": [
    {
     "data": {
      "image/png": "[encoded data removed]",
      "text/plain": [
       "<Figure size 432x288 with 1 Axes>"
      ]
     },
     "metadata": {
      "needs_background": "light"
     },
     "output_type": "display_data"
    }
   ],
   "source": [
    "missings = []\n",
    "\n",
    "for i in range(0, 10000):\n",
    "    vt = targeted_denoising(threshold=0.3)\n",
    "    \n",
    "    if missings is None:\n",
    "        missings = vt\n",
    "    else:\n",
    "        missings.append(vt.reshape(-1))\n",
    "    \n",
    "missings = np.asarray(missings)\n",
    "#missings = missings.reshape(26, 1000)\n",
    "\n",
    "vi = (10000 - np.sum(missings, axis=0)) / 10000\n",
    "\n",
    "plt.figure()\n",
    "plt.title('Probability of a joint to be set as 0 (missing) - Extra threshold of 0.3')\n",
    "plt.xlabel('Joint ID')\n",
    "plt.ylabel('Probability')\n",
    "plt.bar(np.arange(vi.shape[0]), vi.reshape(-1))\n",
    "plt.xticks(np.arange(0, 26))\n",
    "plt.axvline(v.mean(), color='k', linestyle='dashed', linewidth=2)\n",
    "plt.show()"
   ]
  },
  {
   "cell_type": "markdown",
   "metadata": {},
   "source": [
    "# Generate new dataset with predicted skeletons"
   ]
  },
  {
   "cell_type": "code",
   "execution_count": 57,
   "metadata": {},
   "outputs": [],
   "source": [
    "predicted_dataset = []\n",
    "\n",
    "for i, x_i in enumerate(train_dataset[0:91800]):\n",
    "    \n",
    "    x_temporal = []\n",
    "    \n",
    "    for x_j in x_i.x_temporal:\n",
    "                \n",
    "        pred_i = x_j.clone().detach().numpy()\n",
    "        \n",
    "        pred_i = pred_i * np.repeat(np.where(np.random.uniform(size=(pred_i.shape[0], 1)) <= 0.3, 0, 1), 3, axis=1) # Force missing joints\n",
    "        \n",
    "        pred_i = torch.Tensor(pred_i)\n",
    "        \n",
    "        data_i = Data(x_temporal=[pred_i], y=x_i.y, label=x_i.label, edge_index=x_i.edge_index, num_nodes=x_i.num_nodes, edge_weight=x_i.edge_weight, videoID=x_i.videoID)\n",
    "        pred_i = model(data_i, noise=False).detach().numpy()\n",
    "    \n",
    "        pred_i = pred_i.reshape(26, 3)\n",
    "\n",
    "        pred_i = torch.tensor(pred_i, dtype=torch.float)\n",
    "        \n",
    "        x_temporal.append(pred_i)\n",
    "    \n",
    "    \n",
    "    data_element = Data(x_temporal=x_temporal, y=x_i.y, label=x_i.label, edge_index=x_i.edge_index,\n",
    "                        num_nodes=x_i.num_nodes, edge_weight=x_i.edge_weight, videoID=x_i.videoID)\n",
    "\n",
    "    predicted_dataset.append(data_element)"
   ]
  },
  {
   "cell_type": "code",
   "execution_count": 58,
   "metadata": {},
   "outputs": [],
   "source": [
    "gnn_loader = DataLoader(predicted_dataset, batch_size=500)"
   ]
  },
  {
   "cell_type": "markdown",
   "metadata": {},
   "source": [
    "# Loading the GNN classifier model"
   ]
  },
  {
   "cell_type": "code",
   "execution_count": 59,
   "metadata": {},
   "outputs": [
    {
     "data": {
      "text/plain": [
       "<All keys matched successfully>"
      ]
     },
     "execution_count": 59,
     "metadata": {},
     "output_type": "execute_result"
    }
   ],
   "source": [
    "from Code.GNN import *\n",
    "\n",
    "GNN_model = SpatialTemporalGNN(3, 2, 26)\n",
    "\n",
    "model_path = 'Missing joints stats/exportedModels/CARLA/Approach_2-3_joint_Any' #'exportedModels/CARLA/Approach_2-3'\n",
    "GNN_model.load_state_dict(torch.load(model_path))"
   ]
  },
  {
   "cell_type": "code",
   "execution_count": 60,
   "metadata": {},
   "outputs": [],
   "source": [
    "# evaluate(GNN_model, DataLoader(train_dataset[0:91800], batch_size=500), device) # Original CARLA dataset without modifications"
   ]
  },
  {
   "cell_type": "code",
   "execution_count": 61,
   "metadata": {},
   "outputs": [
    {
     "data": {
      "text/plain": [
       "{'Accuracy': 0.6307407407407407,\n",
       " 'Balanced accuracy': 0.6011564009661836,\n",
       " 'Precision': 0.6107338415288812,\n",
       " 'Recall': 0.9029166666666667,\n",
       " 'f1-score': 0.7286249519661842}"
      ]
     },
     "execution_count": 61,
     "metadata": {},
     "output_type": "execute_result"
    }
   ],
   "source": [
    "evaluate(GNN_model, gnn_loader, device)"
   ]
  },
  {
   "cell_type": "code",
   "execution_count": null,
   "metadata": {},
   "outputs": [],
   "source": []
  }
 ],
 "metadata": {
  "kernelspec": {
   "display_name": "Python 3",
   "language": "python",
   "name": "python3"
  },
  "language_info": {
   "codemirror_mode": {
    "name": "ipython",
    "version": 3
   },
   "file_extension": ".py",
   "mimetype": "text/x-python",
   "name": "python",
   "nbconvert_exporter": "python",
   "pygments_lexer": "ipython3",
   "version": "3.7.6"
  }
 },
 "nbformat": 4,
 "nbformat_minor": 4
}
